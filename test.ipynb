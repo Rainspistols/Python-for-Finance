{
 "cells": [
  {
   "cell_type": "code",
   "execution_count": 74,
   "id": "29f94804",
   "metadata": {},
   "outputs": [],
   "source": [
    "# Run this prior to starting the exercise\n",
    "from random import randint as rnd\n",
    "\n",
    "memReg = \"members.txt\"\n",
    "exReg = \"inactive.txt\"\n",
    "fee = (\"yes\", \"no\")\n",
    "\n",
    "\n",
    "def genFiles(current, old):\n",
    "    with open(current, \"w+\") as writefile:\n",
    "        writefile.write(\"Membership No  Date Joined  Active  \\n\")\n",
    "        data = \"{:^13}  {:<11}  {:<6}\\n\"\n",
    "\n",
    "        for rowno in range(20):\n",
    "            date = str(rnd(2015, 2020)) + \"-\" + str(rnd(1, 12)) + \"-\" + str(rnd(1, 25))\n",
    "            writefile.write(data.format(rnd(10000, 99999), date, fee[rnd(0, 1)]))\n",
    "\n",
    "    with open(old, \"w+\") as writefile:\n",
    "        writefile.write(\"Membership No  Date Joined  Active  \\n\")\n",
    "        data = \"{:^13}  {:<11}  {:<6}\\n\"\n",
    "        for rowno in range(3):\n",
    "            date = str(rnd(2015, 2020)) + \"-\" + str(rnd(1, 12)) + \"-\" + str(rnd(1, 25))\n",
    "            writefile.write(data.format(rnd(10000, 99999), date, fee[1]))\n",
    "\n",
    "\n",
    "genFiles(memReg, exReg)"
   ]
  },
  {
   "cell_type": "code",
   "execution_count": 79,
   "id": "d6417b7f",
   "metadata": {},
   "outputs": [
    {
     "name": "stdout",
     "output_type": "stream",
     "text": [
      "['    71750      2015-1-9     no    \\n', '    78401      2020-10-11   yes   \\n', '    99314      2019-4-24    no    \\n', '    66475      2019-9-17    no    \\n', '    77587      2018-7-18    no    \\n', '    25823      2016-11-23   yes   \\n', '    70684      2018-3-5     yes   \\n', '    17101      2016-4-7     no    \\n', '    54844      2016-10-11   yes   \\n', '    11583      2018-4-22    yes   \\n', '    47806      2020-3-17    no    \\n', '    85408      2020-10-14   no    \\n', '    55680      2019-5-24    yes   \\n', '    54556      2018-5-4     yes   \\n', '    91729      2015-7-4     yes   \\n', '    98781      2015-4-18    no    \\n', '    64598      2015-10-8    no    \\n', '    17380      2015-9-25    yes   \\n', '    15535      2016-5-24    no    \\n', '    26785      2020-9-25    yes   \\n']\n"
     ]
    }
   ],
   "source": [
    "\"\"\"\n",
    "The two arguments for this function are the files:\n",
    "    - currentMem: File containing list of current members\n",
    "    - exMem: File containing list of old members\n",
    "\n",
    "    This function should remove all rows from currentMem containing 'no'\n",
    "    in the 'Active' column and appends them to exMem.\n",
    "\"\"\"\n",
    "\n",
    "\n",
    "def clean_inactive_members(members_list, ex_members_list):\n",
    "    with open(members_list, \"r\") as ml:\n",
    "        lines = ml.readlines()\n",
    "        header = lines[0]\n",
    "        members = lines[1:]\n",
    "        print(members)\n",
    "\n",
    "    active_members = [member for member in members if (\"no\" not in member)]\n",
    "    inactive_members = [member for member in members if (\"no\" in member)]\n",
    "\n",
    "    with open(members_list, \"w\") as ml:\n",
    "        ml.write(header)\n",
    "        ml.writelines(active_members)\n",
    "\n",
    "    with open(ex_members_list, \"a\") as eml:\n",
    "        eml.writelines(inactive_members)\n",
    "\n",
    "\n",
    "# The code below is to help you view the files.\n",
    "# Do not modify this code for this exercise.\n",
    "memReg = \"members.txt\"\n",
    "exReg = \"inactive.txt\"\n",
    "clean_inactive_members(memReg, exReg)"
   ]
  },
  {
   "cell_type": "code",
   "execution_count": null,
   "id": "4bd3205d",
   "metadata": {},
   "outputs": [],
   "source": []
  }
 ],
 "metadata": {
  "kernelspec": {
   "display_name": "python-for-finance-py3.13",
   "language": "python",
   "name": "python3"
  },
  "language_info": {
   "codemirror_mode": {
    "name": "ipython",
    "version": 3
   },
   "file_extension": ".py",
   "mimetype": "text/x-python",
   "name": "python",
   "nbconvert_exporter": "python",
   "pygments_lexer": "ipython3",
   "version": "3.13.5"
  }
 },
 "nbformat": 4,
 "nbformat_minor": 5
}
