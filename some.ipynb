{
 "cells": [
  {
   "cell_type": "code",
   "execution_count": 22,
   "id": "0329bfb4",
   "metadata": {},
   "outputs": [
    {
     "name": "stdout",
     "output_type": "stream",
     "text": [
      "0.6678245927541191\n"
     ]
    }
   ],
   "source": [
    "import random\n",
    "probability = random.random()\n",
    "print(probability)"
   ]
  },
  {
   "cell_type": "markdown",
   "id": "70e4132d",
   "metadata": {},
   "source": []
  },
  {
   "cell_type": "code",
   "execution_count": 3,
   "id": "c62174d8",
   "metadata": {},
   "outputs": [
    {
     "name": "stdout",
     "output_type": "stream",
     "text": [
      "Python executable: /Users/mg/Repos/Python-for-Finance/.venv/bin/python\n",
      "Should show: /Users/mg/Repos/Python-for-Finance/.venv/bin/python\n",
      "✅ pandas_datareader is installed\n"
     ]
    }
   ],
   "source": [
    "import sys\n",
    "print(\"Python executable:\", sys.executable)\n",
    "print(\"Should show: /Users/mg/Repos/Python-for-Finance/.venv/bin/python\")\n",
    "\n",
    "# Check if pandas_datareader is in the path\n",
    "import subprocess\n",
    "result = subprocess.run([sys.executable, '-m', 'pip', 'list'], capture_output=True, text=True)\n",
    "if 'pandas-datareader' in result.stdout:\n",
    "    print(\"✅ pandas_datareader is installed\")\n",
    "else:\n",
    "    print(\"❌ pandas_datareader not found\")"
   ]
  },
  {
   "cell_type": "code",
   "execution_count": 1,
   "id": "00e903ec",
   "metadata": {},
   "outputs": [
    {
     "name": "stdout",
     "output_type": "stream",
     "text": [
      "✅ All imports successful!\n",
      "pandas_datareader version: 0.10.0\n"
     ]
    }
   ],
   "source": [
    "import numpy as np\n",
    "import pandas as pd\n",
    "import pandas_datareader as pdr\n",
    "\n",
    "print(\"✅ All imports successful!\")\n",
    "print(\"pandas_datareader version:\", pdr.__version__)"
   ]
  },
  {
   "cell_type": "code",
   "execution_count": null,
   "id": "0120ab0b",
   "metadata": {},
   "outputs": [],
   "source": []
  },
  {
   "cell_type": "code",
   "execution_count": 46,
   "id": "099d45df",
   "metadata": {},
   "outputs": [
    {
     "data": {
      "text/plain": [
       "array([[2, 2, 9, 6, 3, 3, 9, 1, 6, 2],\n",
       "       [5, 7, 9, 3, 4, 1, 9, 3, 1, 1],\n",
       "       [4, 5, 1, 6, 5, 5, 2, 5, 8, 9],\n",
       "       [3, 1, 3, 5, 6, 1, 5, 3, 3, 8],\n",
       "       [3, 2, 6, 2, 7, 3, 5, 4, 9, 5]])"
      ]
     },
     "execution_count": 46,
     "metadata": {},
     "output_type": "execute_result"
    }
   ],
   "source": [
    "np.random.randint(1,10,(5,10))"
   ]
  },
  {
   "cell_type": "markdown",
   "id": "f2e81815",
   "metadata": {},
   "source": []
  },
  {
   "cell_type": "code",
   "execution_count": 49,
   "id": "9107cee7",
   "metadata": {},
   "outputs": [
    {
     "data": {
      "text/plain": [
       "0    0.876929\n",
       "1    0.725361\n",
       "2    0.065936\n",
       "3    0.969583\n",
       "4    0.761795\n",
       "Name: Random Numbers, dtype: float64"
      ]
     },
     "execution_count": 49,
     "metadata": {},
     "output_type": "execute_result"
    }
   ],
   "source": [
    "ser = pd.Series(np.random.random(5), name = 'Random Numbers')\n",
    "ser"
   ]
  },
  {
   "cell_type": "code",
   "execution_count": 51,
   "id": "464064be",
   "metadata": {},
   "outputs": [
    {
     "data": {
      "text/plain": [
       "np.float64(0.06593554157207182)"
      ]
     },
     "execution_count": 51,
     "metadata": {},
     "output_type": "execute_result"
    }
   ],
   "source": [
    "ser[2]"
   ]
  },
  {
   "cell_type": "code",
   "execution_count": 4,
   "id": "96216e6f",
   "metadata": {},
   "outputs": [
    {
     "ename": "NameError",
     "evalue": "name 'pdr' is not defined",
     "output_type": "error",
     "traceback": [
      "\u001b[31m---------------------------------------------------------------------------\u001b[39m",
      "\u001b[31mNameError\u001b[39m                                 Traceback (most recent call last)",
      "\u001b[36mCell\u001b[39m\u001b[36m \u001b[39m\u001b[32mIn[4]\u001b[39m\u001b[32m, line 1\u001b[39m\n\u001b[32m----> \u001b[39m\u001b[32m1\u001b[39m \u001b[43mpdr\u001b[49m.get_data_fred(\u001b[33m'\u001b[39m\u001b[33mGS10\u001b[39m\u001b[33m'\u001b[39m)\n\u001b[32m      2\u001b[39m \u001b[38;5;66;03m#PG = pdr.DataReader('PG', data_source='yahoo', start='1995-1-1')\u001b[39;00m\n",
      "\u001b[31mNameError\u001b[39m: name 'pdr' is not defined"
     ]
    }
   ],
   "source": [
    "pdr.get_data_fred('GS10')\n",
    "#PG = pdr.DataReader('PG', data_source='yahoo', start='1995-1-1')"
   ]
  }
 ],
 "metadata": {
  "kernelspec": {
   "display_name": ".venv",
   "language": "python",
   "name": "python3"
  },
  "language_info": {
   "codemirror_mode": {
    "name": "ipython",
    "version": 3
   },
   "file_extension": ".py",
   "mimetype": "text/x-python",
   "name": "python",
   "nbconvert_exporter": "python",
   "pygments_lexer": "ipython3",
   "version": "3.13.5"
  }
 },
 "nbformat": 4,
 "nbformat_minor": 5
}
