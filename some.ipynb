{
 "cells": [
  {
   "cell_type": "code",
   "execution_count": 119,
   "id": "fde2986f",
   "metadata": {},
   "outputs": [
    {
     "name": "stdout",
     "output_type": "stream",
     "text": [
      "['Leila', 'Maria', 'Gregory', 'Kate'] ['Joshua', 'Brittany'] ['Leila', 'Maria', 'Gregory', 'Kate', 'Joshua', 'Brittany']\n"
     ]
    }
   ],
   "source": [
    "attendees = [\"Leila\", \"Maria\", \"Gregory\", \"Kate\"]\n",
    "newcomers = ['Joshua', 'Brittany']\n",
    "bigger_list = attendees + newcomers\n",
    "print(attendees, newcomers, bigger_list)"
   ]
  }
 ],
 "metadata": {
  "kernelspec": {
   "display_name": "Python 3",
   "language": "python",
   "name": "python3"
  },
  "language_info": {
   "codemirror_mode": {
    "name": "ipython",
    "version": 3
   },
   "file_extension": ".py",
   "mimetype": "text/x-python",
   "name": "python",
   "nbconvert_exporter": "python",
   "pygments_lexer": "ipython3",
   "version": "3.13.5"
  }
 },
 "nbformat": 4,
 "nbformat_minor": 5
}
