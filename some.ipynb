{
 "cells": [
  {
   "cell_type": "code",
   "execution_count": 2,
   "id": "fefd6b59",
   "metadata": {},
   "outputs": [],
   "source": [
    "# simple returns\n",
    "# EP - BP / BP - multiple assets over the same timeframe\n",
    "# EP / BP - 1\n",
    "\n",
    "# EP / BG - single asset\n",
    "\n",
    "# deviation\n",
    "# daily_returns.std() * 250**0.5"
   ]
  },
  {
   "cell_type": "code",
   "execution_count": 3,
   "id": "d1a4478d",
   "metadata": {},
   "outputs": [],
   "source": [
    "import yfinance as yf\n",
    "import datetime as dt\n",
    "import numpy as np\n",
    "import pandas as pd"
   ]
  },
  {
   "cell_type": "code",
   "execution_count": 4,
   "id": "52afc38b",
   "metadata": {},
   "outputs": [
    {
     "name": "stderr",
     "output_type": "stream",
     "text": [
      "/var/folders/9t/pmjxxbqs3j19rnf8hr5qxzvm0000gn/T/ipykernel_40700/1572535463.py:6: FutureWarning: YF.download() has changed argument auto_adjust default to True\n",
      "  sec_data = yf.download(\n",
      "[*********************100%***********************]  2 of 2 completed\n"
     ]
    },
    {
     "data": {
      "text/html": [
       "<div>\n",
       "<style scoped>\n",
       "    .dataframe tbody tr th:only-of-type {\n",
       "        vertical-align: middle;\n",
       "    }\n",
       "\n",
       "    .dataframe tbody tr th {\n",
       "        vertical-align: top;\n",
       "    }\n",
       "\n",
       "    .dataframe thead th {\n",
       "        text-align: right;\n",
       "    }\n",
       "</style>\n",
       "<table border=\"1\" class=\"dataframe\">\n",
       "  <thead>\n",
       "    <tr style=\"text-align: right;\">\n",
       "      <th>Ticker</th>\n",
       "      <th>BEI.DE</th>\n",
       "      <th>PG</th>\n",
       "    </tr>\n",
       "    <tr>\n",
       "      <th>Date</th>\n",
       "      <th></th>\n",
       "      <th></th>\n",
       "    </tr>\n",
       "  </thead>\n",
       "  <tbody>\n",
       "    <tr>\n",
       "      <th>2007-01-02</th>\n",
       "      <td>41.522026</td>\n",
       "      <td>NaN</td>\n",
       "    </tr>\n",
       "    <tr>\n",
       "      <th>2007-01-03</th>\n",
       "      <td>41.613094</td>\n",
       "      <td>38.144569</td>\n",
       "    </tr>\n",
       "    <tr>\n",
       "      <th>2007-01-04</th>\n",
       "      <td>41.886326</td>\n",
       "      <td>37.854973</td>\n",
       "    </tr>\n",
       "    <tr>\n",
       "      <th>2007-01-05</th>\n",
       "      <td>41.025249</td>\n",
       "      <td>37.529911</td>\n",
       "    </tr>\n",
       "    <tr>\n",
       "      <th>2007-01-08</th>\n",
       "      <td>41.033531</td>\n",
       "      <td>37.612659</td>\n",
       "    </tr>\n",
       "    <tr>\n",
       "      <th>...</th>\n",
       "      <td>...</td>\n",
       "      <td>...</td>\n",
       "    </tr>\n",
       "    <tr>\n",
       "      <th>2025-07-07</th>\n",
       "      <td>108.199997</td>\n",
       "      <td>160.500000</td>\n",
       "    </tr>\n",
       "    <tr>\n",
       "      <th>2025-07-08</th>\n",
       "      <td>108.800003</td>\n",
       "      <td>157.889999</td>\n",
       "    </tr>\n",
       "    <tr>\n",
       "      <th>2025-07-09</th>\n",
       "      <td>109.300003</td>\n",
       "      <td>157.520004</td>\n",
       "    </tr>\n",
       "    <tr>\n",
       "      <th>2025-07-10</th>\n",
       "      <td>110.900002</td>\n",
       "      <td>158.490005</td>\n",
       "    </tr>\n",
       "    <tr>\n",
       "      <th>2025-07-11</th>\n",
       "      <td>110.900002</td>\n",
       "      <td>157.050003</td>\n",
       "    </tr>\n",
       "  </tbody>\n",
       "</table>\n",
       "<p>4783 rows × 2 columns</p>\n",
       "</div>"
      ],
      "text/plain": [
       "Ticker          BEI.DE          PG\n",
       "Date                              \n",
       "2007-01-02   41.522026         NaN\n",
       "2007-01-03   41.613094   38.144569\n",
       "2007-01-04   41.886326   37.854973\n",
       "2007-01-05   41.025249   37.529911\n",
       "2007-01-08   41.033531   37.612659\n",
       "...                ...         ...\n",
       "2025-07-07  108.199997  160.500000\n",
       "2025-07-08  108.800003  157.889999\n",
       "2025-07-09  109.300003  157.520004\n",
       "2025-07-10  110.900002  158.490005\n",
       "2025-07-11  110.900002  157.050003\n",
       "\n",
       "[4783 rows x 2 columns]"
      ]
     },
     "execution_count": 4,
     "metadata": {},
     "output_type": "execute_result"
    }
   ],
   "source": [
    "tickers = [\n",
    "    \"PG\",\n",
    "    \"BEI.DE\",\n",
    "]\n",
    "\n",
    "sec_data = yf.download(\n",
    "    tickers,\n",
    "    start=\"2007-1-1\",\n",
    "    end=dt.datetime.now(),\n",
    ")[\"Close\"]\n",
    "\n",
    "sec_data"
   ]
  },
  {
   "cell_type": "code",
   "execution_count": 5,
   "id": "270655d5",
   "metadata": {},
   "outputs": [
    {
     "data": {
      "text/plain": [
       "(Ticker\n",
       " BEI.DE    0.040151\n",
       " PG        0.081107\n",
       " dtype: float64,\n",
       " Ticker\n",
       " BEI.DE    0.211154\n",
       " PG        0.185350\n",
       " dtype: float64)"
      ]
     },
     "execution_count": 5,
     "metadata": {},
     "output_type": "execute_result"
    }
   ],
   "source": [
    "from matplotlib.pylab import f\n",
    "\n",
    "\n",
    "sec_returns = np.log(sec_data / sec_data.shift(1)).dropna()\n",
    "sec_returns\n",
    "\n",
    "annual_returns = sec_returns.mean() * 250  # annualized returns\n",
    "standard_deviation = sec_returns.std() * 250**0.5  # annualized standard deviation\n",
    "annual_returns, standard_deviation"
   ]
  },
  {
   "cell_type": "code",
   "execution_count": 34,
   "id": "ca0d7221",
   "metadata": {},
   "outputs": [
    {
     "data": {
      "text/plain": [
       "(np.float64(0.18535033075191215), np.float64(0.18535033075191215))"
      ]
     },
     "execution_count": 34,
     "metadata": {},
     "output_type": "execute_result"
    }
   ],
   "source": [
    "PG_var = sec_returns[\"PG\"].var() * 250  # Annual variance\n",
    "PG_var\n",
    "PG_std = sec_returns[\"PG\"].std() * (250**0.5)  # Annual standard deviation\n",
    "np.sqrt(PG_var), PG_std"
   ]
  },
  {
   "cell_type": "code",
   "execution_count": null,
   "id": "75223baa",
   "metadata": {},
   "outputs": [
    {
     "data": {
      "text/plain": [
       "(np.float64(3.8078865529319543), np.float64(3.8078865529319543))"
      ]
     },
     "execution_count": 58,
     "metadata": {},
     "output_type": "execute_result"
    }
   ],
   "source": [
    "from sys import stderr\n",
    "\n",
    "\n",
    "stock_a_annual_returns = np.array([10, 12, 8, 15, 5])\n",
    "stock_b_annual_returns = [2, 20, -5, 30, 3]\n",
    "\n",
    "mean = (10 + 12 + 8 + 15 + 5) / 5\n",
    "deviation = (\n",
    "    (10 - mean) ** 2\n",
    "    + (12 - mean) ** 2\n",
    "    + (8 - mean) ** 2\n",
    "    + (15 - mean) ** 2\n",
    "    + (5 - mean) ** 2\n",
    ")\n",
    "n_minus_1 = 5 - 1\n",
    "\n",
    "variance = deviation / n_minus_1\n",
    "\n",
    "variance_2 = stock_a_annual_returns.var(ddof=1)  # Sample variance\n",
    "variance_2\n",
    "\n",
    "std = stock_a_annual_returns.std(ddof=1)\n",
    "\n",
    "\n",
    "# mean\n",
    "(2 + 20 + -5 + 30 + 3) / 5 = 50/5 = 10\n",
    "# deviation from mean\n",
    "2 - 10 = -8\n",
    "20 - 10 = 10\n",
    "-5 - 10 = -15\n",
    "30 - 10 = 20\n",
    "3 - 10 = -7\n",
    "# squared deviations\n",
    "(-8) ** 2 = 64\n",
    "10 ** 2 = 100\n",
    "(-15) ** 2 = 225\n",
    "20 ** 2 = 400\n",
    "(-7) ** 2 = 49\n",
    "# sum of squared deviations\n",
    "64 + 100 + 225 + 400 + 49 = 838\n",
    "# divide by n-1 (sample variance)\n",
    "838 / (5 - 1) = 838 / 4 = 209.5\n",
    "\n",
    "209.5 ** 0.5 = 14.5\n",
    "\n"
   ]
  }
 ],
 "metadata": {
  "kernelspec": {
   "display_name": "python-for-finance-py3.13",
   "language": "python",
   "name": "python3"
  },
  "language_info": {
   "codemirror_mode": {
    "name": "ipython",
    "version": 3
   },
   "file_extension": ".py",
   "mimetype": "text/x-python",
   "name": "python",
   "nbconvert_exporter": "python",
   "pygments_lexer": "ipython3",
   "version": "3.13.5"
  }
 },
 "nbformat": 4,
 "nbformat_minor": 5
}
