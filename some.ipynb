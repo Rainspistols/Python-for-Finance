{
 "cells": [
  {
   "cell_type": "code",
   "execution_count": 84,
   "id": "fefd6b59",
   "metadata": {},
   "outputs": [],
   "source": [
    "# simple returns\n",
    "# EP - BP / BP - multiple assets over the same timeframe\n",
    "# EP / BP - 1\n",
    "\n",
    "# EP / BG - single asset\n",
    "\n",
    "# deviation\n",
    "# daily_returns.std() * 250**0.5"
   ]
  },
  {
   "cell_type": "code",
   "execution_count": 85,
   "id": "d1a4478d",
   "metadata": {},
   "outputs": [
    {
     "name": "stderr",
     "output_type": "stream",
     "text": [
      "/var/folders/9t/pmjxxbqs3j19rnf8hr5qxzvm0000gn/T/ipykernel_98622/4164146877.py:10: FutureWarning: YF.download() has changed argument auto_adjust default to True\n",
      "  pf_data = yf.download(tickers, start=\"2010-01-01\", end=dt.datetime.now())['Close']\n",
      "[*********************100%***********************]  2 of 2 completed\n"
     ]
    },
    {
     "data": {
      "text/html": [
       "<div>\n",
       "<style scoped>\n",
       "    .dataframe tbody tr th:only-of-type {\n",
       "        vertical-align: middle;\n",
       "    }\n",
       "\n",
       "    .dataframe tbody tr th {\n",
       "        vertical-align: top;\n",
       "    }\n",
       "\n",
       "    .dataframe thead th {\n",
       "        text-align: right;\n",
       "    }\n",
       "</style>\n",
       "<table border=\"1\" class=\"dataframe\">\n",
       "  <thead>\n",
       "    <tr style=\"text-align: right;\">\n",
       "      <th>Ticker</th>\n",
       "      <th>PG</th>\n",
       "      <th>^GSPC</th>\n",
       "    </tr>\n",
       "    <tr>\n",
       "      <th>Date</th>\n",
       "      <th></th>\n",
       "      <th></th>\n",
       "    </tr>\n",
       "  </thead>\n",
       "  <tbody>\n",
       "    <tr>\n",
       "      <th>2010-01-04</th>\n",
       "      <td>38.950237</td>\n",
       "      <td>1132.989990</td>\n",
       "    </tr>\n",
       "    <tr>\n",
       "      <th>2010-01-05</th>\n",
       "      <td>38.962978</td>\n",
       "      <td>1136.520020</td>\n",
       "    </tr>\n",
       "    <tr>\n",
       "      <th>2010-01-06</th>\n",
       "      <td>38.778172</td>\n",
       "      <td>1137.140015</td>\n",
       "    </tr>\n",
       "    <tr>\n",
       "      <th>2010-01-07</th>\n",
       "      <td>38.567875</td>\n",
       "      <td>1141.689941</td>\n",
       "    </tr>\n",
       "    <tr>\n",
       "      <th>2010-01-08</th>\n",
       "      <td>38.516884</td>\n",
       "      <td>1144.979980</td>\n",
       "    </tr>\n",
       "    <tr>\n",
       "      <th>...</th>\n",
       "      <td>...</td>\n",
       "      <td>...</td>\n",
       "    </tr>\n",
       "    <tr>\n",
       "      <th>2025-07-10</th>\n",
       "      <td>158.490005</td>\n",
       "      <td>6280.459961</td>\n",
       "    </tr>\n",
       "    <tr>\n",
       "      <th>2025-07-11</th>\n",
       "      <td>157.050003</td>\n",
       "      <td>6259.750000</td>\n",
       "    </tr>\n",
       "    <tr>\n",
       "      <th>2025-07-14</th>\n",
       "      <td>153.759995</td>\n",
       "      <td>6268.560059</td>\n",
       "    </tr>\n",
       "    <tr>\n",
       "      <th>2025-07-15</th>\n",
       "      <td>152.679993</td>\n",
       "      <td>6243.759766</td>\n",
       "    </tr>\n",
       "    <tr>\n",
       "      <th>2025-07-16</th>\n",
       "      <td>153.729996</td>\n",
       "      <td>6263.700195</td>\n",
       "    </tr>\n",
       "  </tbody>\n",
       "</table>\n",
       "<p>3907 rows × 2 columns</p>\n",
       "</div>"
      ],
      "text/plain": [
       "Ticker              PG        ^GSPC\n",
       "Date                               \n",
       "2010-01-04   38.950237  1132.989990\n",
       "2010-01-05   38.962978  1136.520020\n",
       "2010-01-06   38.778172  1137.140015\n",
       "2010-01-07   38.567875  1141.689941\n",
       "2010-01-08   38.516884  1144.979980\n",
       "...                ...          ...\n",
       "2025-07-10  158.490005  6280.459961\n",
       "2025-07-11  157.050003  6259.750000\n",
       "2025-07-14  153.759995  6268.560059\n",
       "2025-07-15  152.679993  6243.759766\n",
       "2025-07-16  153.729996  6263.700195\n",
       "\n",
       "[3907 rows x 2 columns]"
      ]
     },
     "execution_count": 85,
     "metadata": {},
     "output_type": "execute_result"
    }
   ],
   "source": [
    "import datetime as dt\n",
    "import numpy as np\n",
    "import pandas as pd\n",
    "import matplotlib.pyplot as plt\n",
    "import yfinance as yf\n",
    "%matplotlib inline\n",
    "\n",
    "tickers = [\"PG\", \"^GSPC\"]\n",
    "\n",
    "pf_data = yf.download(tickers, start=\"2010-01-01\", end=dt.datetime.now())['Close']\n",
    "pf_data"
   ]
  },
  {
   "cell_type": "code",
   "execution_count": 86,
   "id": "bad1fcf3",
   "metadata": {},
   "outputs": [
    {
     "data": {
      "text/plain": [
       "array([0.07 , 0.074, 0.078, 0.082, 0.086, 0.09 ])"
      ]
     },
     "execution_count": 86,
     "metadata": {},
     "output_type": "execute_result"
    }
   ],
   "source": [
    "tickers = [\"A\", \"B\"]\n",
    "expected_returns = np.array([0.07, 0.09])\n",
    "expected_vol = np.array([0.05, 0.08])\n",
    "returns_annual = np.array([0.07, 0.09])\n",
    "\n",
    "pfolios = [[1, 0], [0.8, 0.2], [0.6, 0.4], [0.4, 0.6], [0.2, 0.8], [0, 1]]\n",
    "\n",
    "pf_returns = np.dot(pfolios, returns_annual)\n",
    "pf_returns"
   ]
  },
  {
   "cell_type": "code",
   "execution_count": 94,
   "id": "53441212",
   "metadata": {},
   "outputs": [
    {
     "name": "stdout",
     "output_type": "stream",
     "text": [
      "0.0012\n",
      "[[0.0025 0.0012]\n",
      " [0.0012 0.0064]]\n",
      "Portfolio 1 Volatility: 0.05\n",
      "Portfolio 2 Volatility: 0.047328638264796934\n",
      "Portfolio 3 Volatility: 0.05\n",
      "Portfolio 4 Volatility: 0.05727128425310542\n",
      "Portfolio 5 Volatility: 0.06767569726275452\n",
      "Portfolio 6 Volatility: 0.08\n"
     ]
    }
   ],
   "source": [
    "correlation = 0.3\n",
    "cov = correlation * expected_vol[0] * expected_vol[1]\n",
    "print(cov)\n",
    "cov_matrix = np.array([[expected_vol[0] ** 2, cov], [cov, expected_vol[1] ** 2]])\n",
    "print(cov_matrix)\n",
    "pf1_var = np.dot(pfolios[0], np.dot(cov_matrix, pfolios[0]))\n",
    "pf2_var = np.dot(pfolios[1], np.dot(cov_matrix, pfolios[1]))\n",
    "pf3_var = np.dot(pfolios[2], np.dot(cov_matrix, pfolios[2]))\n",
    "pf4_var = np.dot(pfolios[3], np.dot(cov_matrix, pfolios[3]))\n",
    "pf5_var = np.dot(pfolios[4], np.dot(cov_matrix, pfolios[4]))\n",
    "pf6_var = np.dot(pfolios[5], np.dot(cov_matrix, pfolios[5]))\n",
    "\n",
    "\n",
    "pf1_vol = np.sqrt(pf1_var)\n",
    "pf2_vol = np.sqrt(pf2_var)\n",
    "pf3_vol = np.sqrt(pf3_var)\n",
    "pf4_vol = np.sqrt(pf4_var)\n",
    "pf5_vol = np.sqrt(pf5_var)\n",
    "pf6_vol = np.sqrt(pf6_var)\n",
    "\n",
    "print(f\"Portfolio 1 Volatility: {pf1_vol}\")\n",
    "print(f\"Portfolio 2 Volatility: {pf2_vol}\")\n",
    "print(f\"Portfolio 3 Volatility: {pf3_vol}\")\n",
    "print(f\"Portfolio 4 Volatility: {pf4_vol}\")\n",
    "print(f\"Portfolio 5 Volatility: {pf5_vol}\")\n",
    "print(f\"Portfolio 6 Volatility: {pf6_vol}\")"
   ]
  },
  {
   "cell_type": "markdown",
   "id": "5889e839",
   "metadata": {},
   "source": []
  },
  {
   "cell_type": "code",
   "execution_count": 100,
   "id": "16871073",
   "metadata": {},
   "outputs": [
    {
     "name": "stdout",
     "output_type": "stream",
     "text": [
      "Return to Risk Ratio: [1.4        1.56353537 1.56       1.43178211 1.27076637 1.125     ]\n"
     ]
    }
   ],
   "source": [
    "return_to_risk = pf_returns / np.array([pf1_vol, pf2_vol, pf3_vol, pf4_vol, pf5_vol, pf6_vol])\n",
    "print(f\"Return to Risk Ratio: {return_to_risk}\")\n"
   ]
  }
 ],
 "metadata": {
  "kernelspec": {
   "display_name": "python-for-finance-py3.13",
   "language": "python",
   "name": "python3"
  },
  "language_info": {
   "codemirror_mode": {
    "name": "ipython",
    "version": 3
   },
   "file_extension": ".py",
   "mimetype": "text/x-python",
   "name": "python",
   "nbconvert_exporter": "python",
   "pygments_lexer": "ipython3",
   "version": "3.13.5"
  }
 },
 "nbformat": 4,
 "nbformat_minor": 5
}
