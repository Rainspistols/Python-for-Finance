{
 "cells": [
  {
   "cell_type": "code",
   "execution_count": 17,
   "id": "fefd6b59",
   "metadata": {},
   "outputs": [],
   "source": [
    "# simple returns\n",
    "# EP - BP / BP - multiple assets over the same timeframe\n",
    "# EP / BP - 1\n",
    "\n",
    "# EP / BG - single asset\n",
    "\n",
    "# deviation\n",
    "# daily_returns.std() * 250**0.5"
   ]
  },
  {
   "cell_type": "code",
   "execution_count": 18,
   "id": "d1a4478d",
   "metadata": {},
   "outputs": [],
   "source": [
    "import yfinance as yf\n",
    "import datetime as dt\n",
    "import numpy as np\n",
    "import pandas as pd"
   ]
  },
  {
   "cell_type": "code",
   "execution_count": 19,
   "id": "52afc38b",
   "metadata": {},
   "outputs": [
    {
     "name": "stderr",
     "output_type": "stream",
     "text": [
      "/var/folders/9t/pmjxxbqs3j19rnf8hr5qxzvm0000gn/T/ipykernel_97325/1572535463.py:6: FutureWarning: YF.download() has changed argument auto_adjust default to True\n",
      "  sec_data = yf.download(\n",
      "[*********************100%***********************]  2 of 2 completed\n"
     ]
    },
    {
     "data": {
      "text/html": [
       "<div>\n",
       "<style scoped>\n",
       "    .dataframe tbody tr th:only-of-type {\n",
       "        vertical-align: middle;\n",
       "    }\n",
       "\n",
       "    .dataframe tbody tr th {\n",
       "        vertical-align: top;\n",
       "    }\n",
       "\n",
       "    .dataframe thead th {\n",
       "        text-align: right;\n",
       "    }\n",
       "</style>\n",
       "<table border=\"1\" class=\"dataframe\">\n",
       "  <thead>\n",
       "    <tr style=\"text-align: right;\">\n",
       "      <th>Ticker</th>\n",
       "      <th>BEI.DE</th>\n",
       "      <th>PG</th>\n",
       "    </tr>\n",
       "    <tr>\n",
       "      <th>Date</th>\n",
       "      <th></th>\n",
       "      <th></th>\n",
       "    </tr>\n",
       "  </thead>\n",
       "  <tbody>\n",
       "    <tr>\n",
       "      <th>2007-01-02</th>\n",
       "      <td>41.522026</td>\n",
       "      <td>NaN</td>\n",
       "    </tr>\n",
       "    <tr>\n",
       "      <th>2007-01-03</th>\n",
       "      <td>41.613102</td>\n",
       "      <td>38.144566</td>\n",
       "    </tr>\n",
       "    <tr>\n",
       "      <th>2007-01-04</th>\n",
       "      <td>41.886326</td>\n",
       "      <td>37.854977</td>\n",
       "    </tr>\n",
       "    <tr>\n",
       "      <th>2007-01-05</th>\n",
       "      <td>41.025253</td>\n",
       "      <td>37.529926</td>\n",
       "    </tr>\n",
       "    <tr>\n",
       "      <th>2007-01-08</th>\n",
       "      <td>41.033527</td>\n",
       "      <td>37.612659</td>\n",
       "    </tr>\n",
       "    <tr>\n",
       "      <th>...</th>\n",
       "      <td>...</td>\n",
       "      <td>...</td>\n",
       "    </tr>\n",
       "    <tr>\n",
       "      <th>2025-07-07</th>\n",
       "      <td>108.199997</td>\n",
       "      <td>160.500000</td>\n",
       "    </tr>\n",
       "    <tr>\n",
       "      <th>2025-07-08</th>\n",
       "      <td>108.800003</td>\n",
       "      <td>157.889999</td>\n",
       "    </tr>\n",
       "    <tr>\n",
       "      <th>2025-07-09</th>\n",
       "      <td>109.300003</td>\n",
       "      <td>157.520004</td>\n",
       "    </tr>\n",
       "    <tr>\n",
       "      <th>2025-07-10</th>\n",
       "      <td>110.900002</td>\n",
       "      <td>158.490005</td>\n",
       "    </tr>\n",
       "    <tr>\n",
       "      <th>2025-07-11</th>\n",
       "      <td>110.900002</td>\n",
       "      <td>157.050003</td>\n",
       "    </tr>\n",
       "  </tbody>\n",
       "</table>\n",
       "<p>4783 rows × 2 columns</p>\n",
       "</div>"
      ],
      "text/plain": [
       "Ticker          BEI.DE          PG\n",
       "Date                              \n",
       "2007-01-02   41.522026         NaN\n",
       "2007-01-03   41.613102   38.144566\n",
       "2007-01-04   41.886326   37.854977\n",
       "2007-01-05   41.025253   37.529926\n",
       "2007-01-08   41.033527   37.612659\n",
       "...                ...         ...\n",
       "2025-07-07  108.199997  160.500000\n",
       "2025-07-08  108.800003  157.889999\n",
       "2025-07-09  109.300003  157.520004\n",
       "2025-07-10  110.900002  158.490005\n",
       "2025-07-11  110.900002  157.050003\n",
       "\n",
       "[4783 rows x 2 columns]"
      ]
     },
     "execution_count": 19,
     "metadata": {},
     "output_type": "execute_result"
    }
   ],
   "source": [
    "tickers = [\n",
    "    \"PG\",\n",
    "    \"BEI.DE\",\n",
    "]\n",
    "\n",
    "sec_data = yf.download(\n",
    "    tickers,\n",
    "    start=\"2007-1-1\",\n",
    "    end=dt.datetime.now(),\n",
    ")[\"Close\"]\n",
    "\n",
    "sec_data"
   ]
  },
  {
   "cell_type": "code",
   "execution_count": 20,
   "id": "270655d5",
   "metadata": {},
   "outputs": [
    {
     "data": {
      "text/plain": [
       "(Ticker\n",
       " BEI.DE    0.040151\n",
       " PG        0.081107\n",
       " dtype: float64,\n",
       " Ticker\n",
       " BEI.DE    0.211154\n",
       " PG        0.185350\n",
       " dtype: float64)"
      ]
     },
     "execution_count": 20,
     "metadata": {},
     "output_type": "execute_result"
    }
   ],
   "source": [
    "from matplotlib.pylab import f\n",
    "\n",
    "\n",
    "sec_returns = np.log(sec_data / sec_data.shift(1)).dropna()\n",
    "sec_returns\n",
    "\n",
    "annual_returns = sec_returns.mean() * 250  # annualized returns\n",
    "standard_deviation = sec_returns.std() * 250**0.5  # annualized standard deviation\n",
    "annual_returns, standard_deviation"
   ]
  },
  {
   "cell_type": "code",
   "execution_count": null,
   "id": "ca0d7221",
   "metadata": {},
   "outputs": [
    {
     "name": "stdout",
     "output_type": "stream",
     "text": [
      "0.034354731679785845 0.044586101839894\n",
      "Ticker    BEI.DE        PG\n",
      "Ticker                    \n",
      "BEI.DE  0.044586  0.010025\n",
      "PG      0.010025  0.034355\n",
      "Ticker    BEI.DE        PG\n",
      "Ticker                    \n",
      "BEI.DE  1.000000  0.256145\n",
      "PG      0.256145  1.000000\n"
     ]
    }
   ],
   "source": [
    "PG_var = sec_returns[\"PG\"].var() * 250  # annualized variance\n",
    "BEI_var = sec_returns[\"BEI.DE\"].var() * 250  # annualized variance\n",
    "\n",
    "print(PG_var, BEI_var)\n",
    "\n",
    "cov_matrix = sec_returns.cov() * 250  # annualized covariance matrix\n",
    "cov_matrix\n",
    "print(cov_matrix) \n",
    "\n",
    "corr_matrix = sec_returns.corr()  # correlation matrix\n",
    "print(corr_matrix)"
   ]
  }
 ],
 "metadata": {
  "kernelspec": {
   "display_name": "python-for-finance-py3.13",
   "language": "python",
   "name": "python3"
  },
  "language_info": {
   "codemirror_mode": {
    "name": "ipython",
    "version": 3
   },
   "file_extension": ".py",
   "mimetype": "text/x-python",
   "name": "python",
   "nbconvert_exporter": "python",
   "pygments_lexer": "ipython3",
   "version": "3.13.5"
  }
 },
 "nbformat": 4,
 "nbformat_minor": 5
}
