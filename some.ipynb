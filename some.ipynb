{
 "cells": [
  {
   "cell_type": "code",
   "execution_count": null,
   "id": "90410000",
   "metadata": {},
   "outputs": [
    {
     "name": "stdout",
     "output_type": "stream",
     "text": [
      "This is a simple function.\n"
     ]
    }
   ],
   "source": [
    "def simple_func():\n",
    "    print(\"This is a simple function.\")\n",
    "\n",
    "\n",
    "simple_func()"
   ]
  },
  {
   "cell_type": "code",
   "execution_count": null,
   "id": "8ae246f4",
   "metadata": {},
   "outputs": [
    {
     "data": {
      "text/plain": [
       "15"
      ]
     },
     "execution_count": 82,
     "metadata": {},
     "output_type": "execute_result"
    }
   ],
   "source": [
    "def plus_10(x):\n",
    "    return x + 10\n",
    "\n",
    "\n",
    "plus_10(5)"
   ]
  },
  {
   "cell_type": "code",
   "execution_count": 84,
   "id": "e631695b",
   "metadata": {},
   "outputs": [
    {
     "data": {
      "text/plain": [
       "2"
      ]
     },
     "execution_count": 84,
     "metadata": {},
     "output_type": "execute_result"
    }
   ],
   "source": [
    "def plus_10(x):\n",
    "    result = x + 10\n",
    "    return 2\n",
    "    return result\n",
    "\n",
    "\n",
    "plus_10(3)  # Shows output: 15 immediately"
   ]
  },
  {
   "cell_type": "code",
   "execution_count": 86,
   "id": "27a27f26",
   "metadata": {},
   "outputs": [
    {
     "data": {
      "text/plain": [
       "110"
      ]
     },
     "execution_count": 86,
     "metadata": {},
     "output_type": "execute_result"
    }
   ],
   "source": [
    "def add_10(x):\n",
    "    if x >= 100:\n",
    "        x += 10\n",
    "        return x\n",
    "    else:\n",
    "        return \"Save more money\"\n",
    "\n",
    "add_10(50)  # Returns \"Save more money\"\n",
    "add_10(100)  # Returns 110"
   ]
  }
 ],
 "metadata": {
  "kernelspec": {
   "display_name": "Python 3",
   "language": "python",
   "name": "python3"
  },
  "language_info": {
   "codemirror_mode": {
    "name": "ipython",
    "version": 3
   },
   "file_extension": ".py",
   "mimetype": "text/x-python",
   "name": "python",
   "nbconvert_exporter": "python",
   "pygments_lexer": "ipython3",
   "version": "3.13.5"
  }
 },
 "nbformat": 4,
 "nbformat_minor": 5
}
