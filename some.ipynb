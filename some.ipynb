{
 "cells": [
  {
   "cell_type": "code",
   "execution_count": null,
   "id": "5db05aa1",
   "metadata": {},
   "outputs": [],
   "source": [
    "x1 = 5"
   ]
  },
  {
   "cell_type": "code",
   "execution_count": 20,
   "id": "f61b0c2e",
   "metadata": {},
   "outputs": [
    {
     "data": {
      "text/plain": [
       "int"
      ]
     },
     "execution_count": 20,
     "metadata": {},
     "output_type": "execute_result"
    }
   ],
   "source": [
    "type(x1)"
   ]
  },
  {
   "cell_type": "code",
   "execution_count": 22,
   "id": "d6e51605",
   "metadata": {},
   "outputs": [
    {
     "data": {
      "text/plain": [
       "int"
      ]
     },
     "execution_count": 22,
     "metadata": {},
     "output_type": "execute_result"
    }
   ],
   "source": [
    "type(-6)"
   ]
  },
  {
   "cell_type": "code",
   "execution_count": null,
   "id": "f8cf5c0c",
   "metadata": {},
   "outputs": [],
   "source": [
    "x2 = 4.75"
   ]
  },
  {
   "cell_type": "code",
   "execution_count": 24,
   "id": "11a8376c",
   "metadata": {},
   "outputs": [
    {
     "data": {
      "text/plain": [
       "float"
      ]
     },
     "execution_count": 24,
     "metadata": {},
     "output_type": "execute_result"
    }
   ],
   "source": [
    "type(x2)"
   ]
  },
  {
   "cell_type": "code",
   "execution_count": 25,
   "id": "7787464e",
   "metadata": {},
   "outputs": [
    {
     "data": {
      "text/plain": [
       "4"
      ]
     },
     "execution_count": 25,
     "metadata": {},
     "output_type": "execute_result"
    }
   ],
   "source": [
    "int(x2)"
   ]
  },
  {
   "cell_type": "code",
   "execution_count": 26,
   "id": "fcca1bd4",
   "metadata": {},
   "outputs": [
    {
     "data": {
      "text/plain": [
       "5.0"
      ]
     },
     "execution_count": 26,
     "metadata": {},
     "output_type": "execute_result"
    }
   ],
   "source": [
    "float(x1)"
   ]
  },
  {
   "cell_type": "code",
   "execution_count": 27,
   "id": "17d0a36a",
   "metadata": {},
   "outputs": [],
   "source": [
    "x3 = True"
   ]
  },
  {
   "cell_type": "code",
   "execution_count": 28,
   "id": "785a326a",
   "metadata": {},
   "outputs": [
    {
     "data": {
      "text/plain": [
       "bool"
      ]
     },
     "execution_count": 28,
     "metadata": {},
     "output_type": "execute_result"
    }
   ],
   "source": [
    "type(x3)"
   ]
  },
  {
   "cell_type": "code",
   "execution_count": 29,
   "id": "acaa1d71",
   "metadata": {},
   "outputs": [
    {
     "data": {
      "text/plain": [
       "'George'"
      ]
     },
     "execution_count": 29,
     "metadata": {},
     "output_type": "execute_result"
    }
   ],
   "source": [
    "\"George\""
   ]
  },
  {
   "cell_type": "code",
   "execution_count": null,
   "id": "3b58723b",
   "metadata": {},
   "outputs": [
    {
     "data": {
      "text/plain": [
       "'George'"
      ]
     },
     "execution_count": 30,
     "metadata": {},
     "output_type": "execute_result"
    }
   ],
   "source": [
    "\"George\""
   ]
  },
  {
   "cell_type": "code",
   "execution_count": 31,
   "id": "11d2ac01",
   "metadata": {},
   "outputs": [
    {
     "name": "stdout",
     "output_type": "stream",
     "text": [
      "George\n"
     ]
    }
   ],
   "source": [
    "print(\"George\")"
   ]
  },
  {
   "cell_type": "code",
   "execution_count": 32,
   "id": "54396a5d",
   "metadata": {},
   "outputs": [],
   "source": [
    "x4 = \"George\""
   ]
  },
  {
   "cell_type": "code",
   "execution_count": 33,
   "id": "845beb2e",
   "metadata": {},
   "outputs": [
    {
     "data": {
      "text/plain": [
       "'George'"
      ]
     },
     "execution_count": 33,
     "metadata": {},
     "output_type": "execute_result"
    }
   ],
   "source": [
    "x4"
   ]
  },
  {
   "cell_type": "code",
   "execution_count": 35,
   "id": "6d344f49",
   "metadata": {},
   "outputs": [
    {
     "name": "stdout",
     "output_type": "stream",
     "text": [
      "10 Dollars\n"
     ]
    }
   ],
   "source": [
    "y = 10\n",
    "print(str(y) + \" Dollars\")"
   ]
  },
  {
   "cell_type": "code",
   "execution_count": 36,
   "id": "e5f60c91",
   "metadata": {},
   "outputs": [
    {
     "data": {
      "text/plain": [
       "\"i'm fine\""
      ]
     },
     "execution_count": 36,
     "metadata": {},
     "output_type": "execute_result"
    }
   ],
   "source": [
    "\"i'm fine\""
   ]
  },
  {
   "cell_type": "code",
   "execution_count": 37,
   "id": "779d718d",
   "metadata": {},
   "outputs": [
    {
     "data": {
      "text/plain": [
       "\"i'm fine\""
      ]
     },
     "execution_count": 37,
     "metadata": {},
     "output_type": "execute_result"
    }
   ],
   "source": [
    "'i\\'m fine'"
   ]
  },
  {
   "cell_type": "code",
   "execution_count": 38,
   "id": "c20451eb",
   "metadata": {},
   "outputs": [
    {
     "data": {
      "text/plain": [
       "'Press \"Enter\"'"
      ]
     },
     "execution_count": 38,
     "metadata": {},
     "output_type": "execute_result"
    }
   ],
   "source": [
    "'Press \"Enter\"'"
   ]
  },
  {
   "cell_type": "code",
   "execution_count": 39,
   "id": "2a48ea09",
   "metadata": {},
   "outputs": [
    {
     "data": {
      "text/plain": [
       "'Redcar'"
      ]
     },
     "execution_count": 39,
     "metadata": {},
     "output_type": "execute_result"
    }
   ],
   "source": [
    "'Red' 'car'"
   ]
  },
  {
   "cell_type": "code",
   "execution_count": 40,
   "id": "c4bbb8db",
   "metadata": {},
   "outputs": [
    {
     "data": {
      "text/plain": [
       "'Red Car'"
      ]
     },
     "execution_count": 40,
     "metadata": {},
     "output_type": "execute_result"
    }
   ],
   "source": [
    "'Red ' 'Car' "
   ]
  },
  {
   "cell_type": "code",
   "execution_count": 41,
   "id": "3ae7d72e",
   "metadata": {},
   "outputs": [
    {
     "data": {
      "text/plain": [
       "'redcar'"
      ]
     },
     "execution_count": 41,
     "metadata": {},
     "output_type": "execute_result"
    }
   ],
   "source": [
    "'red' + 'car'"
   ]
  },
  {
   "cell_type": "code",
   "execution_count": 42,
   "id": "78dcfabc",
   "metadata": {},
   "outputs": [
    {
     "name": "stdout",
     "output_type": "stream",
     "text": [
      "red car\n"
     ]
    }
   ],
   "source": [
    "print('red ' + 'car')"
   ]
  },
  {
   "cell_type": "code",
   "execution_count": 43,
   "id": "6e44ec91",
   "metadata": {},
   "outputs": [
    {
     "name": "stdout",
     "output_type": "stream",
     "text": [
      "red car\n"
     ]
    }
   ],
   "source": [
    "print('red', 'car')"
   ]
  },
  {
   "cell_type": "code",
   "execution_count": 44,
   "id": "f1f5bffa",
   "metadata": {},
   "outputs": [
    {
     "name": "stdout",
     "output_type": "stream",
     "text": [
      "3 5\n"
     ]
    }
   ],
   "source": [
    "print(3,5)"
   ]
  },
  {
   "cell_type": "code",
   "execution_count": 45,
   "id": "743a0559",
   "metadata": {},
   "outputs": [
    {
     "data": {
      "text/plain": [
       "(3, 5)"
      ]
     },
     "execution_count": 45,
     "metadata": {},
     "output_type": "execute_result"
    }
   ],
   "source": [
    "3,5"
   ]
  },
  {
   "cell_type": "code",
   "execution_count": null,
   "id": "3e3548b2",
   "metadata": {},
   "outputs": [],
   "source": []
  }
 ],
 "metadata": {
  "kernelspec": {
   "display_name": "Python 3",
   "language": "python",
   "name": "python3"
  },
  "language_info": {
   "codemirror_mode": {
    "name": "ipython",
    "version": 3
   },
   "file_extension": ".py",
   "mimetype": "text/x-python",
   "name": "python",
   "nbconvert_exporter": "python",
   "pygments_lexer": "ipython3",
   "version": "3.13.5"
  }
 },
 "nbformat": 4,
 "nbformat_minor": 5
}
