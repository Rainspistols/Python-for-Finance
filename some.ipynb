{
 "cells": [
  {
   "cell_type": "code",
   "execution_count": 37,
   "id": "e16a44af",
   "metadata": {},
   "outputs": [
    {
     "name": "stdout",
     "output_type": "stream",
     "text": [
      "434.3304110496001\n"
     ]
    }
   ],
   "source": [
    "total_savings = 100\n",
    "for month in range(6):\n",
    "    total_savings = (total_savings + 50) * (1 + 2 / 100)\n",
    "\n",
    "print(total_savings)"
   ]
  },
  {
   "cell_type": "code",
   "execution_count": null,
   "id": "d5492ae4",
   "metadata": {},
   "outputs": [],
   "source": []
  }
 ],
 "metadata": {
  "kernelspec": {
   "display_name": "Python 3",
   "language": "python",
   "name": "python3"
  },
  "language_info": {
   "codemirror_mode": {
    "name": "ipython",
    "version": 3
   },
   "file_extension": ".py",
   "mimetype": "text/x-python",
   "name": "python",
   "nbconvert_exporter": "python",
   "pygments_lexer": "ipython3",
   "version": "3.13.5"
  }
 },
 "nbformat": 4,
 "nbformat_minor": 5
}
