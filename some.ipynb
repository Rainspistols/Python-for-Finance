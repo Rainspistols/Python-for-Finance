{
 "cells": [
  {
   "cell_type": "code",
   "execution_count": null,
   "id": "df40fe6e",
   "metadata": {},
   "outputs": [],
   "source": [
    "import numpy as np\n",
    "import yfinance as yf\n",
    "import matplotlib.pyplot as plt\n",
    "from datetime import datetime"
   ]
  },
  {
   "cell_type": "code",
   "execution_count": null,
   "id": "cedc42a1",
   "metadata": {},
   "outputs": [
    {
     "name": "stderr",
     "output_type": "stream",
     "text": [
      "[*********************100%***********************]  1 of 1 completed\n"
     ]
    }
   ],
   "source": [
    "today = datetime.now().strftime(\"%Y-%m-%d\")\n",
    "PG = yf.download(\"PG\", start=\"1995-01-01\", end=today, auto_adjust=False)"
   ]
  },
  {
   "cell_type": "code",
   "execution_count": 11,
   "id": "66ac979f",
   "metadata": {},
   "outputs": [
    {
     "data": {
      "text/html": [
       "<div>\n",
       "<style scoped>\n",
       "    .dataframe tbody tr th:only-of-type {\n",
       "        vertical-align: middle;\n",
       "    }\n",
       "\n",
       "    .dataframe tbody tr th {\n",
       "        vertical-align: top;\n",
       "    }\n",
       "\n",
       "    .dataframe thead tr th {\n",
       "        text-align: left;\n",
       "    }\n",
       "\n",
       "    .dataframe thead tr:last-of-type th {\n",
       "        text-align: right;\n",
       "    }\n",
       "</style>\n",
       "<table border=\"1\" class=\"dataframe\">\n",
       "  <thead>\n",
       "    <tr>\n",
       "      <th>Price</th>\n",
       "      <th>Adj Close</th>\n",
       "      <th>Close</th>\n",
       "      <th>High</th>\n",
       "      <th>Low</th>\n",
       "      <th>Open</th>\n",
       "      <th>Volume</th>\n",
       "    </tr>\n",
       "    <tr>\n",
       "      <th>Ticker</th>\n",
       "      <th>PG</th>\n",
       "      <th>PG</th>\n",
       "      <th>PG</th>\n",
       "      <th>PG</th>\n",
       "      <th>PG</th>\n",
       "      <th>PG</th>\n",
       "    </tr>\n",
       "    <tr>\n",
       "      <th>Date</th>\n",
       "      <th></th>\n",
       "      <th></th>\n",
       "      <th></th>\n",
       "      <th></th>\n",
       "      <th></th>\n",
       "      <th></th>\n",
       "    </tr>\n",
       "  </thead>\n",
       "  <tbody>\n",
       "    <tr>\n",
       "      <th>1995-01-03</th>\n",
       "      <td>7.350255</td>\n",
       "      <td>15.59375</td>\n",
       "      <td>15.62500</td>\n",
       "      <td>15.43750</td>\n",
       "      <td>15.46875</td>\n",
       "      <td>3318400</td>\n",
       "    </tr>\n",
       "    <tr>\n",
       "      <th>1995-01-04</th>\n",
       "      <td>7.291330</td>\n",
       "      <td>15.46875</td>\n",
       "      <td>15.65625</td>\n",
       "      <td>15.31250</td>\n",
       "      <td>15.53125</td>\n",
       "      <td>2218800</td>\n",
       "    </tr>\n",
       "    <tr>\n",
       "      <th>1995-01-05</th>\n",
       "      <td>7.188221</td>\n",
       "      <td>15.25000</td>\n",
       "      <td>15.43750</td>\n",
       "      <td>15.21875</td>\n",
       "      <td>15.37500</td>\n",
       "      <td>2319600</td>\n",
       "    </tr>\n",
       "    <tr>\n",
       "      <th>1995-01-06</th>\n",
       "      <td>7.202950</td>\n",
       "      <td>15.28125</td>\n",
       "      <td>15.40625</td>\n",
       "      <td>15.15625</td>\n",
       "      <td>15.15625</td>\n",
       "      <td>3438000</td>\n",
       "    </tr>\n",
       "    <tr>\n",
       "      <th>1995-01-09</th>\n",
       "      <td>7.173488</td>\n",
       "      <td>15.21875</td>\n",
       "      <td>15.40625</td>\n",
       "      <td>15.18750</td>\n",
       "      <td>15.34375</td>\n",
       "      <td>1795200</td>\n",
       "    </tr>\n",
       "  </tbody>\n",
       "</table>\n",
       "</div>"
      ],
      "text/plain": [
       "Price      Adj Close     Close      High       Low      Open   Volume\n",
       "Ticker            PG        PG        PG        PG        PG       PG\n",
       "Date                                                                 \n",
       "1995-01-03  7.350255  15.59375  15.62500  15.43750  15.46875  3318400\n",
       "1995-01-04  7.291330  15.46875  15.65625  15.31250  15.53125  2218800\n",
       "1995-01-05  7.188221  15.25000  15.43750  15.21875  15.37500  2319600\n",
       "1995-01-06  7.202950  15.28125  15.40625  15.15625  15.15625  3438000\n",
       "1995-01-09  7.173488  15.21875  15.40625  15.18750  15.34375  1795200"
      ]
     },
     "execution_count": 11,
     "metadata": {},
     "output_type": "execute_result"
    }
   ],
   "source": [
    "PG.head()"
   ]
  },
  {
   "cell_type": "code",
   "execution_count": 12,
   "id": "80022b02",
   "metadata": {},
   "outputs": [
    {
     "data": {
      "text/html": [
       "<div>\n",
       "<style scoped>\n",
       "    .dataframe tbody tr th:only-of-type {\n",
       "        vertical-align: middle;\n",
       "    }\n",
       "\n",
       "    .dataframe tbody tr th {\n",
       "        vertical-align: top;\n",
       "    }\n",
       "\n",
       "    .dataframe thead tr th {\n",
       "        text-align: left;\n",
       "    }\n",
       "\n",
       "    .dataframe thead tr:last-of-type th {\n",
       "        text-align: right;\n",
       "    }\n",
       "</style>\n",
       "<table border=\"1\" class=\"dataframe\">\n",
       "  <thead>\n",
       "    <tr>\n",
       "      <th>Price</th>\n",
       "      <th>Adj Close</th>\n",
       "      <th>Close</th>\n",
       "      <th>High</th>\n",
       "      <th>Low</th>\n",
       "      <th>Open</th>\n",
       "      <th>Volume</th>\n",
       "    </tr>\n",
       "    <tr>\n",
       "      <th>Ticker</th>\n",
       "      <th>PG</th>\n",
       "      <th>PG</th>\n",
       "      <th>PG</th>\n",
       "      <th>PG</th>\n",
       "      <th>PG</th>\n",
       "      <th>PG</th>\n",
       "    </tr>\n",
       "    <tr>\n",
       "      <th>Date</th>\n",
       "      <th></th>\n",
       "      <th></th>\n",
       "      <th></th>\n",
       "      <th></th>\n",
       "      <th></th>\n",
       "      <th></th>\n",
       "    </tr>\n",
       "  </thead>\n",
       "  <tbody>\n",
       "    <tr>\n",
       "      <th>2025-06-27</th>\n",
       "      <td>159.860001</td>\n",
       "      <td>159.860001</td>\n",
       "      <td>160.130005</td>\n",
       "      <td>158.289993</td>\n",
       "      <td>158.679993</td>\n",
       "      <td>19257000</td>\n",
       "    </tr>\n",
       "    <tr>\n",
       "      <th>2025-06-30</th>\n",
       "      <td>159.320007</td>\n",
       "      <td>159.320007</td>\n",
       "      <td>159.899994</td>\n",
       "      <td>158.130005</td>\n",
       "      <td>159.259995</td>\n",
       "      <td>11238200</td>\n",
       "    </tr>\n",
       "    <tr>\n",
       "      <th>2025-07-01</th>\n",
       "      <td>161.220001</td>\n",
       "      <td>161.220001</td>\n",
       "      <td>162.529999</td>\n",
       "      <td>159.380005</td>\n",
       "      <td>159.880005</td>\n",
       "      <td>10664900</td>\n",
       "    </tr>\n",
       "    <tr>\n",
       "      <th>2025-07-02</th>\n",
       "      <td>161.199997</td>\n",
       "      <td>161.199997</td>\n",
       "      <td>161.350006</td>\n",
       "      <td>159.860001</td>\n",
       "      <td>161.139999</td>\n",
       "      <td>8848700</td>\n",
       "    </tr>\n",
       "    <tr>\n",
       "      <th>2025-07-03</th>\n",
       "      <td>160.830002</td>\n",
       "      <td>160.830002</td>\n",
       "      <td>162.020004</td>\n",
       "      <td>159.789993</td>\n",
       "      <td>161.789993</td>\n",
       "      <td>6999600</td>\n",
       "    </tr>\n",
       "  </tbody>\n",
       "</table>\n",
       "</div>"
      ],
      "text/plain": [
       "Price        Adj Close       Close        High         Low        Open  \\\n",
       "Ticker              PG          PG          PG          PG          PG   \n",
       "Date                                                                     \n",
       "2025-06-27  159.860001  159.860001  160.130005  158.289993  158.679993   \n",
       "2025-06-30  159.320007  159.320007  159.899994  158.130005  159.259995   \n",
       "2025-07-01  161.220001  161.220001  162.529999  159.380005  159.880005   \n",
       "2025-07-02  161.199997  161.199997  161.350006  159.860001  161.139999   \n",
       "2025-07-03  160.830002  160.830002  162.020004  159.789993  161.789993   \n",
       "\n",
       "Price         Volume  \n",
       "Ticker            PG  \n",
       "Date                  \n",
       "2025-06-27  19257000  \n",
       "2025-06-30  11238200  \n",
       "2025-07-01  10664900  \n",
       "2025-07-02   8848700  \n",
       "2025-07-03   6999600  "
      ]
     },
     "execution_count": 12,
     "metadata": {},
     "output_type": "execute_result"
    }
   ],
   "source": [
    "PG.tail()"
   ]
  },
  {
   "cell_type": "code",
   "execution_count": 13,
   "id": "7d0137a0",
   "metadata": {},
   "outputs": [
    {
     "name": "stdout",
     "output_type": "stream",
     "text": [
      "Data shape: (7677, 6)\n",
      "First date: 1995-01-03 00:00:00\n",
      "Last date: 2025-07-03 00:00:00\n",
      "Total days: 7677\n"
     ]
    }
   ],
   "source": [
    "print(f\"Data shape: {PG.shape}\")\n",
    "print(f\"First date: {PG.index[0]}\")\n",
    "print(f\"Last date: {PG.index[-1]}\")\n",
    "print(f\"Total days: {len(PG)}\")"
   ]
  },
  {
   "cell_type": "code",
   "execution_count": 20,
   "id": "1b91aba2",
   "metadata": {},
   "outputs": [
    {
     "name": "stdout",
     "output_type": "stream",
     "text": [
      "Date\n",
      "1995-01-03         NaN\n",
      "1995-01-04   -0.008017\n",
      "1995-01-05   -0.014141\n",
      "1995-01-06    0.002049\n",
      "1995-01-09   -0.004090\n",
      "                ...   \n",
      "2025-06-27    0.007754\n",
      "2025-06-30   -0.003378\n",
      "2025-07-01    0.011926\n",
      "2025-07-02   -0.000124\n",
      "2025-07-03   -0.002295\n",
      "Name: simple_return, Length: 7677, dtype: float64\n"
     ]
    }
   ],
   "source": [
    "PG[\"simple_return\"] = (PG[\"Adj Close\"][\"PG\"] / PG[\"Adj Close\"][\"PG\"].shift(1)) - 1\n",
    "print(PG[\"simple_return\"])"
   ]
  }
 ],
 "metadata": {
  "kernelspec": {
   "display_name": ".venv",
   "language": "python",
   "name": "python3"
  },
  "language_info": {
   "codemirror_mode": {
    "name": "ipython",
    "version": 3
   },
   "file_extension": ".py",
   "mimetype": "text/x-python",
   "name": "python",
   "nbconvert_exporter": "python",
   "pygments_lexer": "ipython3",
   "version": "3.13.5"
  }
 },
 "nbformat": 4,
 "nbformat_minor": 5
}
