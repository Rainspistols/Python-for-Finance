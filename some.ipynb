{
 "cells": [
  {
   "cell_type": "code",
   "execution_count": null,
   "id": "469bbaed",
   "metadata": {},
   "outputs": [
    {
     "data": {
      "text/plain": [
       "dict_keys(['11', '12', '13'])"
      ]
     },
     "execution_count": 1,
     "metadata": {},
     "output_type": "execute_result"
    }
   ],
   "source": [
    "dict = {\"11\": \"value1\", \"12\": \"value2\", \"13\": \"value3\"}\n",
    "\n",
    "dict.keys()"
   ]
  },
  {
   "cell_type": "code",
   "execution_count": 2,
   "id": "c8db5989",
   "metadata": {},
   "outputs": [
    {
     "data": {
      "text/plain": [
       "['11', '12', '13']"
      ]
     },
     "execution_count": 2,
     "metadata": {},
     "output_type": "execute_result"
    }
   ],
   "source": [
    "list(dict.keys())"
   ]
  },
  {
   "cell_type": "code",
   "execution_count": 1,
   "id": "95e3510b",
   "metadata": {},
   "outputs": [
    {
     "name": "stdout",
     "output_type": "stream",
     "text": [
      "Help on built-in function next in module builtins:\n",
      "\n",
      "next(...)\n",
      "    next(iterator[, default])\n",
      "\n",
      "    Return the next item from the iterator. If default is given and the iterator\n",
      "    is exhausted, it is returned instead of raising StopIteration.\n",
      "\n"
     ]
    }
   ],
   "source": [
    "players = [\n",
    "    {\n",
    "        \"Player Name\": \"Serena Williams\",\n",
    "        \"Sport\": \"Tennis\",\n",
    "        \"Achievements\": \"23 Grand Slams\",\n",
    "    },\n",
    "    {\n",
    "        \"Player Name\": \"Lionel Messi\",\n",
    "        \"Sport\": \"Soccer\",\n",
    "        \"Achievements\": \"7 Ballon d'Ors\",\n",
    "    },\n",
    "    {\n",
    "        \"Player Name\": \"Michael Phelps\",\n",
    "        \"Sport\": \"Swimming\",\n",
    "        \"Achievements\": \"23 Gold Medals\",\n",
    "    },\n",
    "    {\n",
    "        \"Player Name\": \"Usain Bolt\",\n",
    "        \"Sport\": \"Athletics\",\n",
    "        \"Achievements\": \"8 Gold Medals\",\n",
    "    },\n",
    "    {\n",
    "        \"Player Name\": \"Roger Federer\",\n",
    "        \"Sport\": \"Tennis\",\n",
    "        \"Achievements\": \"20 Grand Slams\",\n",
    "    },\n",
    "    {\n",
    "        \"Player Name\": \"Cristiano Ronaldo\",\n",
    "        \"Sport\": \"Soccer\",\n",
    "        \"Achievements\": \"5 Ballon d'Ors\",\n",
    "    },\n",
    "]\n",
    "\n",
    "help(next)"
   ]
  },
  {
   "cell_type": "code",
   "execution_count": 22,
   "id": "f2219b4b",
   "metadata": {},
   "outputs": [
    {
     "data": {
      "text/plain": [
       "5"
      ]
     },
     "execution_count": 22,
     "metadata": {},
     "output_type": "execute_result"
    }
   ],
   "source": [
    "class NewClass:\n",
    "    x = 5\n",
    "    name = \"\"\n",
    "\n",
    "    def __init__(self, name):\n",
    "        self.name = name\n",
    "\n",
    "    def do_something(self):\n",
    "        return f\"Doing something with {self.name}\"\n",
    "\n",
    "\n",
    "Example = NewClass(\"example\")\n",
    "Example.name1 = '123'\n",
    "Example.name = 123\n",
    "Example.name1\n",
    "Example.x"
   ]
  },
  {
   "cell_type": "code",
   "execution_count": 24,
   "id": "d24020db",
   "metadata": {},
   "outputs": [
    {
     "ename": "NameError",
     "evalue": "name 'count' is not defined",
     "output_type": "error",
     "traceback": [
      "\u001b[31m---------------------------------------------------------------------------\u001b[39m",
      "\u001b[31mNameError\u001b[39m                                 Traceback (most recent call last)",
      "\u001b[36mCell\u001b[39m\u001b[36m \u001b[39m\u001b[32mIn[24]\u001b[39m\u001b[32m, line 1\u001b[39m\n\u001b[32m----> \u001b[39m\u001b[32m1\u001b[39m help(\u001b[43mcount\u001b[49m())\n",
      "\u001b[31mNameError\u001b[39m: name 'count' is not defined"
     ]
    }
   ],
   "source": [
    "help(count())"
   ]
  },
  {
   "cell_type": "code",
   "execution_count": null,
   "id": "3dd7ed84",
   "metadata": {},
   "outputs": [],
   "source": []
  }
 ],
 "metadata": {
  "kernelspec": {
   "display_name": "python-for-finance-py3.13",
   "language": "python",
   "name": "python3"
  },
  "language_info": {
   "codemirror_mode": {
    "name": "ipython",
    "version": 3
   },
   "file_extension": ".py",
   "mimetype": "text/x-python",
   "name": "python",
   "nbconvert_exporter": "python",
   "pygments_lexer": "ipython3",
   "version": "3.13.5"
  }
 },
 "nbformat": 4,
 "nbformat_minor": 5
}
