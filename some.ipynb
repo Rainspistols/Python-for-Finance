{
 "cells": [
  {
   "cell_type": "code",
   "execution_count": 3,
   "id": "fcbf793b",
   "metadata": {},
   "outputs": [
    {
     "name": "stdout",
     "output_type": "stream",
     "text": [
      "10000 $10000\n"
     ]
    }
   ],
   "source": [
    "quantitativeFigures = 10000\n",
    "currencyValues = \"$\" + str(quantitativeFigures)\n",
    "print(quantitativeFigures, currencyValues)"
   ]
  },
  {
   "cell_type": "code",
   "execution_count": 5,
   "id": "10bcc173",
   "metadata": {},
   "outputs": [
    {
     "name": "stdout",
     "output_type": "stream",
     "text": [
      "$15500.75\n"
     ]
    }
   ],
   "source": [
    "profit = 15500.75\n",
    "print(\"$\" + str(profit))"
   ]
  },
  {
   "cell_type": "code",
   "execution_count": 10,
   "id": "a49b80c0",
   "metadata": {},
   "outputs": [
    {
     "name": "stdout",
     "output_type": "stream",
     "text": [
      "Profit Category: High (20000)\n"
     ]
    }
   ],
   "source": [
    "profit = 20000\n",
    "if profit > 10000:\n",
    "    category = \"High\"\n",
    "elif profit > 5000:\n",
    "    category = \"Medium\"\n",
    "else:\n",
    "    category = \"Low\"\n",
    "\n",
    "print(\"Profit Category: \" + category + \" (\" + str(profit) + \")\")"
   ]
  }
 ],
 "metadata": {
  "kernelspec": {
   "display_name": "Python 3",
   "language": "python",
   "name": "python3"
  },
  "language_info": {
   "codemirror_mode": {
    "name": "ipython",
    "version": 3
   },
   "file_extension": ".py",
   "mimetype": "text/x-python",
   "name": "python",
   "nbconvert_exporter": "python",
   "pygments_lexer": "ipython3",
   "version": "3.13.5"
  }
 },
 "nbformat": 4,
 "nbformat_minor": 5
}
