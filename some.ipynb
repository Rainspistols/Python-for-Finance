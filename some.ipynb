{
 "cells": [
  {
   "cell_type": "code",
   "execution_count": null,
   "id": "fefd6b59",
   "metadata": {},
   "outputs": [],
   "source": [
    "\n",
    "# simple returns\n",
    "# EP - BP / BP - multiple assets over the same timeframe\n",
    "# EP / BP - 1\n",
    "\n",
    "# EP / BG - single asset\n",
    "\n",
    "# deviation\n",
    "# daily_returns.std() * 250**0.5"
   ]
  },
  {
   "cell_type": "code",
   "execution_count": 42,
   "id": "d1a4478d",
   "metadata": {},
   "outputs": [],
   "source": [
    "import yfinance as yf\n",
    "import datetime as dt\n",
    "import numpy as np"
   ]
  },
  {
   "cell_type": "code",
   "execution_count": 43,
   "id": "52afc38b",
   "metadata": {},
   "outputs": [
    {
     "name": "stderr",
     "output_type": "stream",
     "text": [
      "/var/folders/9t/pmjxxbqs3j19rnf8hr5qxzvm0000gn/T/ipykernel_26323/1572535463.py:6: FutureWarning: YF.download() has changed argument auto_adjust default to True\n",
      "  sec_data = yf.download(\n",
      "[*********************100%***********************]  2 of 2 completed\n"
     ]
    },
    {
     "data": {
      "text/html": [
       "<div>\n",
       "<style scoped>\n",
       "    .dataframe tbody tr th:only-of-type {\n",
       "        vertical-align: middle;\n",
       "    }\n",
       "\n",
       "    .dataframe tbody tr th {\n",
       "        vertical-align: top;\n",
       "    }\n",
       "\n",
       "    .dataframe thead th {\n",
       "        text-align: right;\n",
       "    }\n",
       "</style>\n",
       "<table border=\"1\" class=\"dataframe\">\n",
       "  <thead>\n",
       "    <tr style=\"text-align: right;\">\n",
       "      <th>Ticker</th>\n",
       "      <th>BEI.DE</th>\n",
       "      <th>PG</th>\n",
       "    </tr>\n",
       "    <tr>\n",
       "      <th>Date</th>\n",
       "      <th></th>\n",
       "      <th></th>\n",
       "    </tr>\n",
       "  </thead>\n",
       "  <tbody>\n",
       "    <tr>\n",
       "      <th>2007-01-02</th>\n",
       "      <td>41.522026</td>\n",
       "      <td>NaN</td>\n",
       "    </tr>\n",
       "    <tr>\n",
       "      <th>2007-01-03</th>\n",
       "      <td>41.613094</td>\n",
       "      <td>38.144573</td>\n",
       "    </tr>\n",
       "    <tr>\n",
       "      <th>2007-01-04</th>\n",
       "      <td>41.886322</td>\n",
       "      <td>37.854977</td>\n",
       "    </tr>\n",
       "    <tr>\n",
       "      <th>2007-01-05</th>\n",
       "      <td>41.025249</td>\n",
       "      <td>37.529907</td>\n",
       "    </tr>\n",
       "    <tr>\n",
       "      <th>2007-01-08</th>\n",
       "      <td>41.033539</td>\n",
       "      <td>37.612644</td>\n",
       "    </tr>\n",
       "    <tr>\n",
       "      <th>...</th>\n",
       "      <td>...</td>\n",
       "      <td>...</td>\n",
       "    </tr>\n",
       "    <tr>\n",
       "      <th>2025-07-03</th>\n",
       "      <td>108.150002</td>\n",
       "      <td>160.830002</td>\n",
       "    </tr>\n",
       "    <tr>\n",
       "      <th>2025-07-04</th>\n",
       "      <td>107.949997</td>\n",
       "      <td>NaN</td>\n",
       "    </tr>\n",
       "    <tr>\n",
       "      <th>2025-07-07</th>\n",
       "      <td>108.199997</td>\n",
       "      <td>160.500000</td>\n",
       "    </tr>\n",
       "    <tr>\n",
       "      <th>2025-07-08</th>\n",
       "      <td>108.800003</td>\n",
       "      <td>157.889999</td>\n",
       "    </tr>\n",
       "    <tr>\n",
       "      <th>2025-07-09</th>\n",
       "      <td>109.300003</td>\n",
       "      <td>157.520004</td>\n",
       "    </tr>\n",
       "  </tbody>\n",
       "</table>\n",
       "<p>4781 rows × 2 columns</p>\n",
       "</div>"
      ],
      "text/plain": [
       "Ticker          BEI.DE          PG\n",
       "Date                              \n",
       "2007-01-02   41.522026         NaN\n",
       "2007-01-03   41.613094   38.144573\n",
       "2007-01-04   41.886322   37.854977\n",
       "2007-01-05   41.025249   37.529907\n",
       "2007-01-08   41.033539   37.612644\n",
       "...                ...         ...\n",
       "2025-07-03  108.150002  160.830002\n",
       "2025-07-04  107.949997         NaN\n",
       "2025-07-07  108.199997  160.500000\n",
       "2025-07-08  108.800003  157.889999\n",
       "2025-07-09  109.300003  157.520004\n",
       "\n",
       "[4781 rows x 2 columns]"
      ]
     },
     "execution_count": 43,
     "metadata": {},
     "output_type": "execute_result"
    }
   ],
   "source": [
    "tickers = [\n",
    "    \"PG\",\n",
    "    \"BEI.DE\",\n",
    "]\n",
    "\n",
    "sec_data = yf.download(\n",
    "    tickers,\n",
    "    start=\"2007-1-1\",\n",
    "    end=dt.datetime.now(),\n",
    ")[\"Close\"]\n",
    "\n",
    "sec_data"
   ]
  },
  {
   "cell_type": "code",
   "execution_count": null,
   "id": "270655d5",
   "metadata": {},
   "outputs": [
    {
     "name": "stdout",
     "output_type": "stream",
     "text": [
      "0.18537359670381057 0.21117444595860313\n"
     ]
    },
    {
     "data": {
      "text/plain": [
       "Ticker\n",
       "PG        0.185374\n",
       "BEI.DE    0.211174\n",
       "dtype: float64"
      ]
     },
     "execution_count": 54,
     "metadata": {},
     "output_type": "execute_result"
    }
   ],
   "source": [
    "sec_returns = np.log(sec_data / sec_data.shift(1)).dropna()\n",
    "sec_returns[\"PG\"].mean()\n",
    "sec_returns[\"PG\"].mean() * 250\n",
    "sec_returns[\"PG\"].std() * 250**0.5\n",
    "\n",
    "sec_returns[\"BEI.DE\"].mean()\n",
    "sec_returns[\"BEI.DE\"].mean() * 250\n",
    "sec_returns[\"BEI.DE\"].std() * 250**0.5\n",
    "print(sec_returns[\"PG\"].std() * 250**0.5, sec_returns[\"BEI.DE\"].std() * 250**0.5)\n",
    "\n",
    "sec_returns[[\"PG\", \"BEI.DE\"]].std() * 250**0.5"
   ]
  }
 ],
 "metadata": {
  "kernelspec": {
   "display_name": ".venv",
   "language": "python",
   "name": "python3"
  },
  "language_info": {
   "codemirror_mode": {
    "name": "ipython",
    "version": 3
   },
   "file_extension": ".py",
   "mimetype": "text/x-python",
   "name": "python",
   "nbconvert_exporter": "python",
   "pygments_lexer": "ipython3",
   "version": "3.13.5"
  }
 },
 "nbformat": 4,
 "nbformat_minor": 5
}
