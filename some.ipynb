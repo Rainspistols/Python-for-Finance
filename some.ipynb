{
 "cells": [
  {
   "cell_type": "code",
   "execution_count": 40,
   "id": "e16a44af",
   "metadata": {},
   "outputs": [
    {
     "name": "stdout",
     "output_type": "stream",
     "text": [
      "434.3304110496001\n",
      "59.330411049600116\n"
     ]
    }
   ],
   "source": [
    "total_savings = 100\n",
    "for month in range(6):\n",
    "    total_savings = (total_savings + 50) * (1 + 2 / 100)\n",
    "\n",
    "print(total_savings)\n",
    "print(total_savings % 75)"
   ]
  },
  {
   "cell_type": "code",
   "execution_count": null,
   "id": "d5492ae4",
   "metadata": {},
   "outputs": [
    {
     "data": {
      "text/plain": [
       "203.02217377645334"
      ]
     },
     "execution_count": 53,
     "metadata": {},
     "output_type": "execute_result"
    }
   ],
   "source": [
    "annual_percentage_rate = 1.5 / 100\n",
    "years = 1\n",
    "weeks = years * 52\n",
    "different_scheme_result = 200 * (1 + annual_percentage_rate / weeks) ** (weeks * years)\n",
    "different_scheme_result"
   ]
  },
  {
   "cell_type": "code",
   "execution_count": 59,
   "id": "5c190291",
   "metadata": {},
   "outputs": [
    {
     "name": "stdout",
     "output_type": "stream",
     "text": [
      "33.333333333333336\n"
     ]
    }
   ],
   "source": [
    "initial_savings = 100\n",
    "num_friends = 3 \n",
    "each_friend_gets = initial_savings / num_friends\n",
    "print(each_friend_gets)"
   ]
  }
 ],
 "metadata": {
  "kernelspec": {
   "display_name": "Python 3",
   "language": "python",
   "name": "python3"
  },
  "language_info": {
   "codemirror_mode": {
    "name": "ipython",
    "version": 3
   },
   "file_extension": ".py",
   "mimetype": "text/x-python",
   "name": "python",
   "nbconvert_exporter": "python",
   "pygments_lexer": "ipython3",
   "version": "3.13.5"
  }
 },
 "nbformat": 4,
 "nbformat_minor": 5
}
