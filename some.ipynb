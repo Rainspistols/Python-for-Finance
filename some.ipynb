{
 "cells": [
  {
   "cell_type": "code",
   "execution_count": null,
   "id": "fde2986f",
   "metadata": {},
   "outputs": [
    {
     "name": "stdout",
     "output_type": "stream",
     "text": [
      "['Leila', 'Maria', 'Gregory', 'Kate'] ['Joshua', 'Brittany'] ['Leila', 'Maria', 'Gregory', 'Kate', 'Joshua', 'Brittany']\n"
     ]
    }
   ],
   "source": [
    "attendees = [\"Leila\", \"Maria\", \"Gregory\", \"Kate\"]\n",
    "newcomers = [\"Joshua\", \"Brittany\"]\n",
    "bigger_list = attendees + newcomers\n",
    "print(attendees, newcomers, bigger_list)"
   ]
  },
  {
   "cell_type": "code",
   "execution_count": 125,
   "id": "7e72b102",
   "metadata": {},
   "outputs": [
    {
     "name": "stdout",
     "output_type": "stream",
     "text": [
      "2 is even 4 is even 6 is even 8 is even 10 is even 12 is even 14 is even 16 is even 18 is even 20 is even "
     ]
    }
   ],
   "source": [
    "even = [2, 4, 6, 8, 10, 12, 14, 16, 18, 20]\n",
    "\n",
    "for n in even:\n",
    "    print(n, \"is even\", end=\" \")"
   ]
  },
  {
   "cell_type": "code",
   "execution_count": 128,
   "id": "ebf8c895",
   "metadata": {},
   "outputs": [
    {
     "name": "stdout",
     "output_type": "stream",
     "text": [
      "0 2 4 6 8 10 12 14 16 18 20 "
     ]
    }
   ],
   "source": [
    "x = 0\n",
    "while x <= 20:\n",
    "    print(x, end=\" \")\n",
    "    x += 2"
   ]
  }
 ],
 "metadata": {
  "kernelspec": {
   "display_name": "Python 3",
   "language": "python",
   "name": "python3"
  },
  "language_info": {
   "codemirror_mode": {
    "name": "ipython",
    "version": 3
   },
   "file_extension": ".py",
   "mimetype": "text/x-python",
   "name": "python",
   "nbconvert_exporter": "python",
   "pygments_lexer": "ipython3",
   "version": "3.13.5"
  }
 },
 "nbformat": 4,
 "nbformat_minor": 5
}
