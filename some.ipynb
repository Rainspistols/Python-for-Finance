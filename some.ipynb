{
 "cells": [
  {
   "cell_type": "code",
   "execution_count": 22,
   "id": "0329bfb4",
   "metadata": {},
   "outputs": [
    {
     "name": "stdout",
     "output_type": "stream",
     "text": [
      "0.6678245927541191\n"
     ]
    }
   ],
   "source": [
    "import random\n",
    "probability = random.random()\n",
    "print(probability)"
   ]
  },
  {
   "cell_type": "code",
   "execution_count": 25,
   "id": "c62174d8",
   "metadata": {},
   "outputs": [
    {
     "name": "stdout",
     "output_type": "stream",
     "text": [
      "Random number between 1 and 10: 5\n"
     ]
    }
   ],
   "source": [
    "number = random.randint(1, 10)\n",
    "print(f\"Random number between 1 and 10: {number}\")"
   ]
  },
  {
   "cell_type": "code",
   "execution_count": 26,
   "id": "00e903ec",
   "metadata": {},
   "outputs": [],
   "source": [
    "import numpy as np"
   ]
  },
  {
   "cell_type": "code",
   "execution_count": 34,
   "id": "099d45df",
   "metadata": {},
   "outputs": [
    {
     "data": {
      "text/plain": [
       "array([[1, 1, 2, 1, 1, 2, 1, 1],\n",
       "       [1, 2, 1, 2, 1, 2, 1, 1],\n",
       "       [2, 2, 2, 2, 1, 1, 1, 2]])"
      ]
     },
     "execution_count": 34,
     "metadata": {},
     "output_type": "execute_result"
    }
   ],
   "source": [
    "np.random.randint(1,3,(3,8))"
   ]
  }
 ],
 "metadata": {
  "kernelspec": {
   "display_name": ".venv",
   "language": "python",
   "name": "python3"
  },
  "language_info": {
   "codemirror_mode": {
    "name": "ipython",
    "version": 3
   },
   "file_extension": ".py",
   "mimetype": "text/x-python",
   "name": "python",
   "nbconvert_exporter": "python",
   "pygments_lexer": "ipython3",
   "version": "3.13.5"
  }
 },
 "nbformat": 4,
 "nbformat_minor": 5
}
