{
 "cells": [
  {
   "cell_type": "code",
   "execution_count": null,
   "id": "fde2986f",
   "metadata": {},
   "outputs": [],
   "source": [
    "attendees = [\"Leila\", \"Maria\", \"Gregory\", \"Kate\"]\n",
    "newcomers = [\"Joshua\", \"Brittany\"]\n",
    "bigger_list = attendees + newcomers\n",
    "print(attendees, newcomers, bigger_list)"
   ]
  },
  {
   "cell_type": "code",
   "execution_count": null,
   "id": "7e72b102",
   "metadata": {},
   "outputs": [],
   "source": [
    "even = [2, 4, 6, 8, 10, 12, 14, 16, 18, 20]\n",
    "\n",
    "for n in even:\n",
    "    print(n, \"is even\", end=\" \")"
   ]
  },
  {
   "cell_type": "code",
   "execution_count": null,
   "id": "ebf8c895",
   "metadata": {},
   "outputs": [],
   "source": [
    "x = 0\n",
    "while x <= 20:\n",
    "    print(x, end=\" \")\n",
    "    x += 2"
   ]
  },
  {
   "cell_type": "code",
   "execution_count": 6,
   "id": "236b4f3a",
   "metadata": {},
   "outputs": [
    {
     "data": {
      "text/plain": [
       "[0, 1, 2, 3, 4, 5, 6, 7, 8, 9]"
      ]
     },
     "execution_count": 6,
     "metadata": {},
     "output_type": "execute_result"
    }
   ],
   "source": [
    "range(3, 10, 2)\n",
    "list(range(10))"
   ]
  },
  {
   "cell_type": "code",
   "execution_count": 9,
   "id": "e8d53e0c",
   "metadata": {},
   "outputs": [
    {
     "name": "stdout",
     "output_type": "stream",
     "text": [
      "1 2 4 8 16 32 64 128 256 512 "
     ]
    }
   ],
   "source": [
    "for n in range(10):\n",
    "    print(2**n, end=\" \")"
   ]
  },
  {
   "cell_type": "code",
   "execution_count": null,
   "id": "7da75984",
   "metadata": {},
   "outputs": [
    {
     "data": {
      "text/plain": [
       "1"
      ]
     },
     "execution_count": 27,
     "metadata": {},
     "output_type": "execute_result"
    }
   ],
   "source": [
    "from typing import List\n",
    "\n",
    "\n",
    "def count(numbers: List[int]) -> int:\n",
    "    total = 0\n",
    "    for x in numbers:\n",
    "        if x < 20:\n",
    "            total += 1\n",
    "    return total\n",
    "\n",
    "\n",
    "count([12])"
   ]
  },
  {
   "cell_type": "code",
   "execution_count": null,
   "id": "143d87cd",
   "metadata": {},
   "outputs": [
    {
     "data": {
      "text/plain": [
       "26806.42"
      ]
     },
     "execution_count": 30,
     "metadata": {},
     "output_type": "execute_result"
    }
   ],
   "source": [
    "from webbrowser import get\n",
    "\n",
    "# Stock prices dictionary - stores current price per share for each stock\n",
    "prices = {\n",
    "    \"AAPL\": 150.25,\n",
    "    \"GOOGL\": 2800.50,\n",
    "    \"AMZN\": 3400.75,\n",
    "    \"MSFT\": 299.99,\n",
    "    \"TSLA\": 700.00,\n",
    "}\n",
    "\n",
    "# Quantity dictionary - stores number of shares owned for each stock\n",
    "quantity = {\"AAPL\": 10, \"GOOGL\": 5, \"AMZN\": 2, \"MSFT\": 8, \"TSLA\": 3}\n",
    "\n",
    "\n",
    "def calculate_total_spent():\n",
    "    \"\"\"Calculate total money spent on stock portfolio\"\"\"\n",
    "    total = 0\n",
    "    # Iterate through each stock and its price\n",
    "    for stock, price in prices.items():\n",
    "        # Check if we own shares of this stock\n",
    "        if stock in quantity:\n",
    "            # Add the total value (price * shares) to running total\n",
    "            total += price * quantity[stock]\n",
    "    return total\n",
    "\n",
    "\n",
    "# Calculate and return total portfolio value\n",
    "calculate_total_spent()"
   ]
  }
 ],
 "metadata": {
  "kernelspec": {
   "display_name": "Python 3",
   "language": "python",
   "name": "python3"
  },
  "language_info": {
   "codemirror_mode": {
    "name": "ipython",
    "version": 3
   },
   "file_extension": ".py",
   "mimetype": "text/x-python",
   "name": "python",
   "nbconvert_exporter": "python",
   "pygments_lexer": "ipython3",
   "version": "3.13.5"
  }
 },
 "nbformat": 4,
 "nbformat_minor": 5
}
