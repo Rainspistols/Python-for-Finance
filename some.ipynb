{
 "cells": [
  {
   "cell_type": "code",
   "execution_count": null,
   "id": "fde2986f",
   "metadata": {},
   "outputs": [],
   "source": [
    "attendees = [\"Leila\", \"Maria\", \"Gregory\", \"Kate\"]\n",
    "newcomers = [\"Joshua\", \"Brittany\"]\n",
    "bigger_list = attendees + newcomers\n",
    "print(attendees, newcomers, bigger_list)"
   ]
  },
  {
   "cell_type": "code",
   "execution_count": null,
   "id": "7e72b102",
   "metadata": {},
   "outputs": [],
   "source": [
    "even = [2, 4, 6, 8, 10, 12, 14, 16, 18, 20]\n",
    "\n",
    "for n in even:\n",
    "    print(n, \"is even\", end=\" \")"
   ]
  },
  {
   "cell_type": "code",
   "execution_count": null,
   "id": "ebf8c895",
   "metadata": {},
   "outputs": [],
   "source": [
    "x = 0\n",
    "while x <= 20:\n",
    "    print(x, end=\" \")\n",
    "    x += 2"
   ]
  },
  {
   "cell_type": "code",
   "execution_count": 6,
   "id": "236b4f3a",
   "metadata": {},
   "outputs": [
    {
     "data": {
      "text/plain": [
       "[0, 1, 2, 3, 4, 5, 6, 7, 8, 9]"
      ]
     },
     "execution_count": 6,
     "metadata": {},
     "output_type": "execute_result"
    }
   ],
   "source": [
    "range(3, 10, 2)\n",
    "list(range(10))"
   ]
  },
  {
   "cell_type": "code",
   "execution_count": 9,
   "id": "e8d53e0c",
   "metadata": {},
   "outputs": [
    {
     "name": "stdout",
     "output_type": "stream",
     "text": [
      "1 2 4 8 16 32 64 128 256 512 "
     ]
    }
   ],
   "source": [
    "for n in range(10):\n",
    "    print(2**n, end=\" \")"
   ]
  },
  {
   "cell_type": "code",
   "execution_count": null,
   "id": "7da75984",
   "metadata": {},
   "outputs": [
    {
     "data": {
      "text/plain": [
       "1"
      ]
     },
     "execution_count": 27,
     "metadata": {},
     "output_type": "execute_result"
    }
   ],
   "source": [
    "from typing import List\n",
    "\n",
    "\n",
    "def count(numbers: List[int]) -> int:\n",
    "    total = 0\n",
    "    for x in numbers:\n",
    "        if x < 20:\n",
    "            total += 1\n",
    "    return total\n",
    "\n",
    "count([12])"
   ]
  },
  {
   "cell_type": "code",
   "execution_count": null,
   "id": "143d87cd",
   "metadata": {},
   "outputs": [
    {
     "data": {
      "text/plain": [
       "26806.42"
      ]
     },
     "execution_count": 29,
     "metadata": {},
     "output_type": "execute_result"
    }
   ],
   "source": [
    "from webbrowser import get\n",
    "\n",
    "\n",
    "prices = {\n",
    "    \"AAPL\": 150.25,\n",
    "    \"GOOGL\": 2800.50,\n",
    "    \"AMZN\": 3400.75,\n",
    "    \"MSFT\": 299.99,\n",
    "    \"TSLA\": 700.00\n",
    "}\n",
    "\n",
    "quantity  = {\n",
    "    \"AAPL\": 10,\n",
    "    \"GOOGL\": 5,\n",
    "    \"AMZN\": 2,\n",
    "    \"MSFT\": 8,\n",
    "    \"TSLA\": 3\n",
    "}\n",
    "\n",
    "def get_spent():\n",
    "    total = 0\n",
    "    for stock, price in prices.items():\n",
    "        if stock in quantity:\n",
    "            total += price * quantity[stock]\n",
    "    return total\n",
    "\n",
    "get_spent()"
   ]
  }
 ],
 "metadata": {
  "kernelspec": {
   "display_name": "Python 3",
   "language": "python",
   "name": "python3"
  },
  "language_info": {
   "codemirror_mode": {
    "name": "ipython",
    "version": 3
   },
   "file_extension": ".py",
   "mimetype": "text/x-python",
   "name": "python",
   "nbconvert_exporter": "python",
   "pygments_lexer": "ipython3",
   "version": "3.13.5"
  }
 },
 "nbformat": 4,
 "nbformat_minor": 5
}
